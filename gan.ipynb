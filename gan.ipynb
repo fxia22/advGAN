{
 "cells": [
  {
   "cell_type": "code",
   "execution_count": 1,
   "metadata": {
    "collapsed": true
   },
   "outputs": [],
   "source": [
    "require 'torch'\n",
    "require 'nn'\n",
    "require 'cunn'\n",
    "require 'nnx'\n",
    "require 'optim'\n",
    "require 'image'\n",
    "require 'dataset-mnist'\n",
    "require 'pl'\n",
    "require 'paths'"
   ]
  },
  {
   "cell_type": "code",
   "execution_count": 2,
   "metadata": {
    "collapsed": true
   },
   "outputs": [],
   "source": [
    "function weights_init(m)\n",
    "   local name = torch.type(m)\n",
    "   if name:find('Convolution') then\n",
    "      m.weight:normal(0.0, 0.02)\n",
    "      m:noBias()\n",
    "   elseif name:find('BatchNormalization') then\n",
    "      if m.weight then m.weight:normal(1.0, 0.02) end\n",
    "      if m.bias then m.bias:fill(0) end\n",
    "   end\n",
    "end\n",
    "\n"
   ]
  },
  {
   "cell_type": "code",
   "execution_count": 3,
   "metadata": {
    "collapsed": true
   },
   "outputs": [],
   "source": [
    "model_path = 'logs/mnist.net.20'"
   ]
  },
  {
   "cell_type": "code",
   "execution_count": 4,
   "metadata": {
    "collapsed": false
   },
   "outputs": [
    {
     "data": {
      "text/plain": [
       "<trainer> reloading previously trained network\t\n"
      ]
     },
     "execution_count": 4,
     "metadata": {},
     "output_type": "execute_result"
    },
    {
     "data": {
      "text/plain": [
       "<mnist> using model:\t\n",
       "nn.Sequential {\n",
       "  [input -> (1) -> (2) -> (3) -> (4) -> (5) -> (6) -> (7) -> (8) -> (9) -> (10) -> (11) -> output]\n",
       "  (1): nn.SpatialConvolutionMM(1 -> 32, 5x5)\n",
       "  (2): nn.Tanh\n",
       "  (3): nn.SpatialMaxPooling(3x3, 3,3, 1,1)\n",
       "  (4): nn.SpatialConvolutionMM(32 -> 64, 5x5)\n",
       "  (5): nn.Tanh\n",
       "  (6): nn.SpatialMaxPooling(2x2, 2,2)\n",
       "  (7): nn.Reshape(576)\n",
       "  (8): nn.Linear(576 -> 200)\n",
       "  (9): nn.Tanh\n",
       "  (10): nn.Linear(200 -> 10)\n",
       "  (11): nn.LogSoftMax\n",
       "}\n",
       "{\n",
       "  gradInput : DoubleTensor - size: 10x1x32x32\n",
       "  modules : \n",
       "    {\n",
       "      1 : \n",
       "        nn.SpatialConvolutionMM(1 -> 32, 5x5)\n",
       "        {\n",
       "          padW : 0\n",
       "          nInputPlane : 1\n",
       "          output : DoubleTensor - size: 10x32x28x28\n",
       "          gradInput : DoubleTensor - size: 10x1x32x32\n",
       "          _type : torch.DoubleTensor\n",
       "   "
      ]
     },
     "execution_count": 4,
     "metadata": {},
     "output_type": "execute_result"
    },
    {
     "data": {
      "text/plain": [
       "       dH : 1\n",
       "          dW : 1\n",
       "          nOutputPlane : 32\n",
       "          bias : DoubleTensor - size: 32\n",
       "          kH : 5\n",
       "          finput : DoubleTensor - empty\n",
       "          weight : DoubleTensor - size: 32x25\n",
       "          gradWeight : DoubleTensor - size: 32x25\n",
       "          fgradInput : DoubleTensor - empty\n",
       " "
      ]
     },
     "execution_count": 4,
     "metadata": {},
     "output_type": "execute_result"
    },
    {
     "data": {
      "text/plain": [
       "         gradBias : DoubleTensor - size: 32\n",
       "          padH : 0\n",
       "          kW : 5\n",
       "        }\n",
       "      2 : \n",
       "        nn.Tanh\n",
       "        {\n",
       "          gradInput : DoubleTensor - size: 10x32x28x28\n",
       "          _type : torch.DoubleTensor\n",
       "          output : DoubleTensor - size: 10x32x28x28\n",
       "        }\n",
       "      3 : \n",
       "        nn.SpatialMaxPooling(3x3, 3,3, 1,1)\n",
       "        {\n",
       "          dH : 3\n",
       "          dW : 3\n",
       "          kW : 3\n",
       "          gradInput : DoubleTensor - size: 10x32x28x28\n",
       "          kH : 3\n",
       "          indices : DoubleTensor - size: 10x32x10x10\n",
       "          padW : 1\n",
       "          _type : torch.DoubleTensor\n",
       "          padH : 1\n",
       "          ceil_mode : false\n",
       "          iheight : 28\n",
       "          output : DoubleTensor - size: 10x32x10x10\n",
       "        "
      ]
     },
     "execution_count": 4,
     "metadata": {},
     "output_type": "execute_result"
    },
    {
     "data": {
      "text/plain": [
       "  iwidth : 28\n",
       "        }\n",
       "      4 : \n",
       "        nn.SpatialConvolutionMM(32 -> 64, 5x5)\n",
       "        {\n",
       "          padW : 0\n",
       "          nInputPlane : 32\n",
       "          output : DoubleTensor - size: 10x64x6x6\n",
       "          gradInput : DoubleTensor - size: 10x32x10x10\n",
       "          _type : torch.DoubleTensor\n",
       "          dH : 1\n",
       "          dW : 1\n",
       "          nOutputPlane : 64\n",
       "          bias : DoubleTensor - size: 64\n",
       "          kH : 5\n",
       "          finput : DoubleTensor - empty\n",
       "          weight : DoubleTensor - size: 64x800\n",
       "          gradWeight : DoubleTensor - size: 64x800\n",
       "          fgradInput : DoubleTensor - empty\n",
       "          gradBias : DoubleTensor - size: 64\n",
       "          padH : 0\n",
       "          kW : 5\n",
       "        }\n",
       "      5 : \n",
       "        nn.Tanh\n",
       "  "
      ]
     },
     "execution_count": 4,
     "metadata": {},
     "output_type": "execute_result"
    },
    {
     "data": {
      "text/plain": [
       "      {\n",
       "          gradInput : DoubleTensor - size: 10x64x6x6\n",
       "          _type : torch.DoubleTensor\n",
       "          output : DoubleTensor - size: 10x64x6x6\n",
       "        }\n",
       "      6 : \n",
       "        nn.SpatialMaxPooling(2x2, 2,2)\n",
       "        {\n",
       "          dH : 2\n",
       "          dW : 2\n",
       "          kW : 2\n",
       "          gradInput : DoubleTensor - size: 10x64x6x6\n",
       "          kH : 2\n",
       "          indices : DoubleTensor - size: 10x64x3x3\n",
       "          padW : 0\n",
       "          _type : torch.DoubleTensor\n",
       "          padH : 0\n",
       "          ceil_mode : false\n",
       "          iheight : 6\n",
       "          output : DoubleTensor - size: 10x64x3x3\n",
       "          iwidth : 6\n",
       "        }\n",
       "      7 : \n",
       "        nn.Reshape(576)\n",
       " "
      ]
     },
     "execution_count": 4,
     "metadata": {},
     "output_type": "execute_result"
    },
    {
     "data": {
      "text/plain": [
       "       {\n",
       "          _type : torch.DoubleTensor\n",
       "          output : DoubleTensor - size: 10x576\n",
       "          gradInput : DoubleTensor - size: 10x64x3x3\n",
       "          size : LongStorage - size: 1\n",
       "          batchsize : LongStorage - size: 2\n",
       "          nelement : 576\n",
       "        }\n",
       "      8 : \n",
       "        nn.Linear(576 -> 200)\n",
       "        {\n",
       "          gradBias : DoubleTensor - size: 200\n",
       "          weight : DoubleTensor - size: 200x576\n",
       "          _type : torch.DoubleTensor\n",
       "          output : DoubleTensor - size: 10x200\n",
       "          gradInput : DoubleTensor - size: 10x576\n",
       "          gradWeight : DoubleTensor - size: 200x576\n",
       "          bias : DoubleTensor - size: 200\n",
       "          addBuffer : DoubleTensor - size: 10\n",
       "        }\n",
       "      9 : \n",
       " "
      ]
     },
     "execution_count": 4,
     "metadata": {},
     "output_type": "execute_result"
    },
    {
     "data": {
      "text/plain": [
       "       nn.Tanh\n",
       "        {\n",
       "          gradInput : DoubleTensor - size: 10x200\n",
       "          _type : torch.DoubleTensor\n",
       "          output : DoubleTensor - size: 10x200\n",
       "        }\n",
       "      10 : \n",
       "        nn.Linear(200 -> 10)\n",
       "        {\n",
       "          gradBias : DoubleTensor - size: 10\n",
       "          weight : DoubleTensor - size: 10x200\n",
       "          _type : torch.DoubleTensor\n",
       "          output : DoubleTensor - size: 10x10\n",
       "          gradInput : DoubleTensor - size: 10x200\n",
       "          gradWeight : DoubleTensor - size: 10x200\n",
       "          bias : DoubleTensor - size: 10\n",
       "          addBuffer : DoubleTensor - size: 10\n",
       "        }\n",
       "      11 : \n",
       "        nn.LogSoftMax\n",
       "        {\n",
       "          gradInput : DoubleTensor - size: 10x10\n",
       "          _type : torch.DoubleTensor\n",
       "          output : DoubleTensor - size: 10x10\n",
       "        }\n",
       "    }\n",
       "  _type : torch.DoubleTensor\n",
       "  output : DoubleTensor - size: 10x10\n",
       "}\n"
      ]
     },
     "execution_count": 4,
     "metadata": {},
     "output_type": "execute_result"
    }
   ],
   "source": [
    "\n",
    "\n",
    "print('<trainer> reloading previously trained network')\n",
    "model = torch.load(model_path)\n",
    "\n",
    "modelD = model:double()\n",
    "\n",
    "-- retrieve parameters and gradients\n",
    "\n",
    "-- verbose\n",
    "print('<mnist> using model:')\n",
    "print(modelD)\n",
    "\n"
   ]
  },
  {
   "cell_type": "code",
   "execution_count": 13,
   "metadata": {
    "collapsed": false
   },
   "outputs": [
    {
     "data": {
      "text/plain": [
       "<mnist> done\t\n"
      ]
     },
     "execution_count": 13,
     "metadata": {},
     "output_type": "execute_result"
    },
    {
     "data": {
      "text/plain": [
       "<mnist> done\t\n"
      ]
     },
     "execution_count": 13,
     "metadata": {},
     "output_type": "execute_result"
    },
    {
     "data": {
      "text/plain": [
       "ConfusionMatrix:\n",
       "[[      21       0       0       0       0       0       0       0       0       0]   100.000% \t[class: 1]\n",
       " [       0      26       0       0       0       0       0       0       0       0]   100.000% \t[class: 2]\n",
       " [       0       0      20       0       0       0       0       0       0       0]   100.000% \t[class: 3]\n",
       " [       0       0       0      21       0       0       0       0       0       0]   100.000% \t[class: 4]\n",
       " [       0       0       0       0      21       0       0       0       0       0]   100.000% \t[class: 5]\n",
       " [       0       0       0       0       0      13       0       0       0       0]   100.000% \t[class: 6]\n",
       " [       0       0       0       0       0       0      19       0       0       0]   100.000% \t[class: 7]\n",
       " [       0       0       0       0       0       0       0      21       0       0]   100.000% \t[class: 8]\n",
       " [       0       0       0       0       0       0       0       0      15       0]   100.000% \t[class: 9]\n",
       " [       0       0       0       0       0       0       0       0       0      23]]  100.000% \t[class: 10]\n",
       " + average row correct: 100% \n",
       " + average rowUcol correct (VOC measure): 100% \n",
       " + global correct: 100%\n",
       "{\n",
       "  _mat_flat : LongTensor - size: 100\n",
       "  valids : FloatTensor - size: 10\n",
       "  mat : LongTensor - size: 10x10\n",
       "  averageUnionValid : 1\n",
       "  _targ_idx : LongTensor - empty\n",
       "  averageValid : 1\n",
       "  classes : \n",
       "    {\n",
       "      1 : 1\n",
       "      2 : 2\n",
       "      3 : 3\n",
       "      4 : 4\n",
       "      5 : 5\n",
       "      6 : 6\n",
       "      7 : 7\n",
       "      8 : 8\n",
       "      9 : 9\n",
       "      10 : 10\n",
       "    }\n",
       "  _prediction : FloatTensor - size: 10\n",
       "  _pred_idx : LongTensor - size: 1\n",
       "  nclasses : 10\n",
       "  _max : FloatTensor - size: 1\n",
       "  _target : FloatTensor - empty\n",
       "  unionvalids : FloatTensor - size: 10\n",
       "  totalValid : 1\n",
       "}\n"
      ]
     },
     "execution_count": 13,
     "metadata": {},
     "output_type": "execute_result"
    },
    {
     "data": {
      "text/plain": [
       "ConfusionMatrix:\n",
       "[[      13       0       1       0       0       0       1       0       2       4]   61.905% \t[class: 1]\n",
       " [       0       7       2       3       5       0       0       6       3       0]   26.923% \t[class: 2]\n",
       " [       1       1       6       8       0       0       1       1       2       0]   30.000% \t[class: 3]\n",
       " [       0       0       2      15       0       2       0       0       1       1]   71.429% \t[class: 4]\n",
       " [       0       0       1       0       8       0       3       0       3       6]   38.095% \t[class: 5]\n",
       " [       0       0       0       5       0       0       0       0       8       0]   0.000% \t[class: 6]\n",
       " [       1       0       0       0       0       2      10       0       6       0]   52.632% \t[class: 7]\n",
       " [       0       0       1       3       0       0       0       3       4      10]   14.286% \t[class: 8]\n",
       " [       0       0       2       3       0       0       0       0       9       1]   60.000% \t[class: 9]\n",
       " [       0       0       0       2       7       2       0       5       3       4]]  17.391% \t[class: 10]\n",
       " + average row correct: 37.266025841236% \n",
       " + average rowUcol correct (VOC measure): 23.950847908854% \n",
       " + global correct: 37.5%\n",
       "{\n",
       "  _mat_flat : LongTensor - size: 100\n",
       "  valids : FloatTensor - size: 10\n",
       "  mat : LongTensor - size: 10x10\n",
       "  averageUnionValid : 0.23950847908854\n",
       "  _targ_idx : LongTensor - empty\n",
       "  averageValid : 0.37266025841236\n",
       "  classes : \n",
       "    {\n",
       "      1 : 1\n",
       "      2 : 2\n",
       "      3 : 3\n",
       "      4 : 4\n",
       "      5 : 5\n",
       "      6 : 6\n",
       "      7 : 7\n",
       "      8 : 8\n",
       "      9 : 9\n",
       "      10 : 10\n",
       "    }\n",
       "  _prediction : FloatTensor - size: 10\n",
       "  _pred_idx : LongTensor - size: 1\n",
       "  nclasses : 10\n",
       "  _max : FloatTensor - size: 1\n",
       "  _target : FloatTensor - empty\n",
       "  unionvalids : FloatTensor - size: 10\n",
       "  totalValid : 0.375\n",
       "}\n"
      ]
     },
     "execution_count": 13,
     "metadata": {},
     "output_type": "execute_result"
    }
   ],
   "source": [
    "\n",
    "----------------------------------------------------------------------\n",
    "-- loss function: negative log-likelihood\n",
    "--\n",
    "criterion = nn.ClassNLLCriterion()\n",
    "\n",
    "adversarial_fast = dofile('adversarial-fast.lua')\n",
    "\n",
    "\n",
    "----------------------------------------------------------------------\n",
    "-- get/create dataset\n",
    "--\n",
    "\n",
    "-- create training set and normalize\n",
    "trainData = mnist.loadTrainSet(nbTrainingPatches, geometry)\n",
    "trainData:normalizeGlobal(mean, std)\n",
    "\n",
    "-- create test set and normalize\n",
    "testData = mnist.loadTestSet(nbTestingPatches, geometry)\n",
    "testData:normalizeGlobal(mean, std)\n",
    "\n",
    "\n",
    "geometry = {32,32}\n",
    "dataset = trainData\n",
    "batchSize = 200\n",
    "inputs = torch.Tensor(batchSize,1,geometry[1],geometry[2])\n",
    "targets = torch.Tensor(batchSize)\n",
    "\n",
    "local k = 1\n",
    "\n",
    "for i = 1,math.min(batchSize,dataset:size()) do\n",
    "         -- load new sample\n",
    "         local sample = dataset[i]\n",
    "         local input = sample[1]:clone()\n",
    "         local _,target = sample[2]:clone():max(1)\n",
    "         target = target:squeeze()\n",
    "         inputs[k] = input\n",
    "         targets[k] = target\n",
    "         k = k + 1\n",
    "end\n",
    "\n",
    "\n",
    "\n",
    "classes = {'1','2','3','4','5','6','7','8','9','10'}\n",
    "\n",
    "confusion = optim.ConfusionMatrix(classes)\n",
    "\n",
    "local preds = modelD:forward(inputs)\n",
    "\n",
    "for i = 1,batchSize do\n",
    "    confusion:add(preds[i], targets[i])\n",
    "end\n",
    "\n",
    "print(confusion)\n",
    "confusion:zero()\n",
    "\n",
    "local intensity = 0.3\n",
    "\n",
    "inputs_adv = adversarial_fast(modelD, criterion, inputs, targets, 1, intensity)\n",
    "\n",
    "local preds = modelD:forward(inputs_adv)\n",
    "\n",
    "for i = 1,batchSize do\n",
    "    confusion:add(preds[i], targets[i])\n",
    "end\n",
    "\n",
    "print(confusion)\n",
    "-- print(inputs_adv)\n",
    "\n"
   ]
  },
  {
   "cell_type": "code",
   "execution_count": 12,
   "metadata": {
    "collapsed": false
   },
   "outputs": [
    {
     "data": {
      "text/plain": [
       "nn.Sequential {\n",
       "  [input -> (1) -> (2) -> output]\n",
       "  (1): nn.ConcatTable {\n",
       "    input\n",
       "      |`-> (1): nn.Sequential {\n",
       "      |      [input -> (1) -> (2) -> (3) -> (4) -> (5) -> (6) -> (7) -> (8) -> (9) -> (10) -> (11) -> (12) -> (13) -> (14) -> (15) -> (16) -> (17) -> (18) -> (19) -> (20) -> (21) -> (22) -> (23) -> output]\n",
       "      |      (1): nn.SpatialConvolution(1 -> 8, 4x4, 2,2, 1,1) without bias\n",
       "      |      (2): nn.LeakyReLU(0.2)\n",
       "      |      (3): nn.SpatialConvolution(8 -> 16, 4x4, 2,2, 1,1) without bias\n",
       "      |      (4): nn.SpatialBatchNormalization (4D) (16)\n",
       "      |      (5): nn.LeakyReLU(0.2)\n",
       "      |      (6): nn.SpatialConvolution(16 -> 32, 4x4, 2,2, 1,1) without bias\n",
       "      |      (7): nn.SpatialBatchNormalization (4D) (32)\n",
       "      |      (8): nn.LeakyReLU(0.2)\n",
       "      |      (9): nn.SpatialConvolution(32 -> 64, 4x4, 2,2, 1,1) without bias\n",
       "      |      (10): nn.SpatialBatchNormalization (4D) (64)\n",
       "      |      (11): nn.LeakyReLU(0.2)\n",
       "      |      (12): nn.SpatialFullConvolution(64 -> 32, 4x4, 2,2, 1,1) without bias\n",
       "      |      (13): nn.SpatialBatchNormalization (4D) (32)\n",
       "      |      (14): nn.ReLU\n",
       "      |      (15): nn.SpatialFullConvolution(32 -> 16, 4x4, 2,2, 1,1) without bias\n",
       "      |      (16): nn.SpatialBatchNormalization (4D) (16)\n",
       "      |      (17): nn.ReLU\n",
       "      |      (18): nn.SpatialFullConvolution(16 -> 8, 4x4, 2,2, 1,1) without bias\n",
       "      |      (19): nn.SpatialBatchNormalization (4D) (8)\n",
       "      |      (20): nn.ReLU\n",
       "      |      (21): nn.SpatialFullConvolution(8 -> 1, 4x4, 2,2, 1,1) without bias\n",
       "      |      (22): nn.Tanh\n",
       "      |      (23): nn.Clamp\n",
       "      |    }\n",
       "       `-> (2): nn.Identity\n",
       "       ... -> output\n",
       "  }\n",
       "  (2): nn.CAddTable\n",
       "}\n",
       "{\n",
       "  gradInput : DoubleTensor - empty\n",
       "  modules : \n",
       "    {\n",
       "      1 : \n",
       "        nn.ConcatTable {\n",
       "          input\n",
       "            |`-> (1): nn.Sequential {\n",
       "            |      [input -> (1) -> (2) -> (3) -> (4) -> (5) -> (6) -> (7) -> (8) -> (9) -> (10) -> (11) -> (12) -> (13) -> (14) -> (15) -> (16) -> (17) -> (18) -> (19) -> (20) -> (21) -> (22) -> (23) -> output]\n",
       "            |      (1): nn.SpatialConvolution(1 -> 8, 4x4, 2,2, 1,1) without bias\n",
       "            |      (2): nn.LeakyReLU(0.2)\n",
       "            |      (3): nn.SpatialConvolution(8 -> 16, 4x4, 2,2, 1,1) without bias\n",
       "            |      (4): nn.SpatialBatchNormalization (4D) (16)\n",
       "            |      (5): nn.LeakyReLU(0.2)\n",
       "            |      (6): nn.SpatialConvolution(16 -> 32, 4x4, 2,2, 1,1) without bias\n",
       "            |      (7): nn.SpatialBatchNormalization (4D) (32)\n",
       "            |      (8): nn.LeakyReLU(0.2)\n",
       "            |      (9): nn.SpatialConvolution(32 -> 64, 4x4, 2,2, 1,1) without bias\n",
       "            |      (10): nn.SpatialBatchNormalization (4D) (64)\n",
       "            |      (11): nn.LeakyReLU(0.2)\n",
       "            |      (12): nn.SpatialFullConvolution(64 -> 32, 4x4, 2,2, 1,1) without bias\n",
       "            |      (13): nn.SpatialBatchNormalization (4D) (32)\n",
       "            |      (14): nn.ReLU\n",
       "            |      (15): nn.SpatialFullConvolution(32 -> 16, 4x4, 2,2, 1,1) without bias\n",
       "            |      (16): nn.SpatialBatchNormalization (4D) (16)\n",
       "            |      (17): nn.ReLU\n",
       "            |      (18): nn.SpatialFullConvolution(16 -> 8, 4x4, 2,2, 1,1) without bias\n",
       "            |      (19): nn.SpatialBatchNormalization (4D) (8)\n",
       "            |      (20): nn.ReLU\n",
       "            |      (21): nn.SpatialFullConvolution(8 -> 1, 4x4, 2,2, 1,1) without bias\n",
       "            |      (22): nn.Tanh\n",
       "            |      (23): nn.Clamp\n",
       "            |    }\n",
       "             `-> (2): nn.Identity\n",
       "             ... -> output\n",
       "        }\n",
       "        {\n",
       "          gradInput : DoubleTensor - empty\n",
       "          modules : \n",
       "            {\n",
       "              1 : \n",
       "                nn.Sequential {\n",
       "                  [input -> (1) -> (2) -> (3) -> (4) -> (5) -> (6) -> (7) -> (8) -> (9) -> (10) -> (11) -> (12) -> (13) -> (14) -> (15) -> (16) -> (17) -> (18) -> (19) -> (20) -> (21) -> (22) -> (23) -> output]\n",
       "                  (1): nn.SpatialConvolution(1 -> 8, 4x4, 2,2, 1,1) without bias\n",
       "                  (2): nn.LeakyReLU(0.2)\n",
       "                  (3): nn.SpatialConvolution(8 -> 16, 4x4, 2,2, 1,1) without bias\n",
       "                  "
      ]
     },
     "execution_count": 12,
     "metadata": {},
     "output_type": "execute_result"
    },
    {
     "data": {
      "text/plain": [
       "(4): nn.SpatialBatchNormalization (4D) (16)\n",
       "                  (5): nn.LeakyReLU(0.2)\n",
       "                  (6): nn.SpatialConvolution(16 -> 32, 4x4, 2,2, 1,1) without bias\n",
       "                  (7): nn.SpatialBatchNormalization (4D) (32)\n",
       "                  (8): nn.LeakyReLU(0.2)\n",
       "                  (9): nn.SpatialConvolution(32 -> 64, 4x4, 2,2, 1,1) without bias\n",
       "                  (10): nn.SpatialBatchNormalization (4D) (64)\n",
       "                  (11): nn.LeakyReLU(0.2)\n",
       "                  (12): nn.SpatialFullConvolution(64 -> 32, 4x4, 2,2, 1,1) without bias\n",
       "                  (13): nn.SpatialBatchNormalization (4D) (32)\n",
       "                  (14): nn.ReLU\n",
       "                  (15): nn.SpatialFullConvolution(32 -> 16, 4x4, 2,2, 1,1) without bias\n",
       "                  (16): nn.SpatialBatchNormalization (4D) (16)\n",
       "                  (17): nn.ReLU\n",
       "                  (18): nn.SpatialFullConvolution(16 -> 8, 4x4, 2,2, 1,1) without bias\n",
       "                  (19): nn.SpatialBatchNormalization (4D) (8)\n",
       "                  (20): nn.ReLU\n",
       "                  (21): nn.SpatialFullConvolution(8 -> 1, 4x4, 2,2, 1,1) without bias\n",
       "                  (22): nn.Tanh\n",
       "                  (23): nn.Clamp\n",
       "                }\n",
       "                {\n",
       "                  gradInput : DoubleTensor - empty\n",
       "                  modules : table: 0x41eb5338\n",
       "                  _type : torch.DoubleTensor\n",
       "                  output : DoubleTensor - empty\n",
       "                }\n",
       "              2 : \n",
       "                nn.Identity\n",
       "                {\n",
       "                  gradInput : DoubleTensor - empty\n",
       "                  _type : torch.DoubleTensor\n",
       "                  output : DoubleTensor - empty\n",
       "                }\n",
       "            }\n",
       "          _type : torch.DoubleTensor\n",
       "          output : table: 0x41ebb500\n",
       "        }\n",
       "      2 : \n",
       "        nn.CAddTable\n",
       "        {\n",
       "          gradInput : table: 0x4124a600\n",
       "          inplace : true\n",
       "          _type : torch.DoubleTensor\n",
       "          output : DoubleTensor - empty\n",
       "        }\n",
       "    }\n",
       "  _type : torch.DoubleTensor\n",
       "  output : DoubleTensor - empty\n",
       "}\n"
      ]
     },
     "execution_count": 12,
     "metadata": {},
     "output_type": "execute_result"
    }
   ],
   "source": [
    "local nc = 1\n",
    "local nz = 100\n",
    "local ngf = 8\n",
    "local real_label = 1\n",
    "local fake_label = 0\n",
    "\n",
    "local SpatialBatchNormalization = nn.SpatialBatchNormalization\n",
    "local SpatialConvolution = nn.SpatialConvolution\n",
    "local SpatialFullConvolution = nn.SpatialFullConvolution\n",
    "\n",
    "\n",
    "local netG = nn.Sequential()\n",
    "local intensity = 0.2\n",
    "-- input is (nc) x 64 x 64\n",
    "netG:add(SpatialConvolution(nc, ngf, 4, 4, 2, 2, 1, 1))\n",
    "netG:add(nn.LeakyReLU(0.2, true))\n",
    "-- state size: (ngf) x 32 x 32\n",
    "netG:add(SpatialConvolution(ngf, ngf * 2, 4, 4, 2, 2, 1, 1))\n",
    "netG:add(SpatialBatchNormalization(ngf * 2)):add(nn.LeakyReLU(0.2, true))\n",
    "-- state size: (ngf*2) x 16 x 16\n",
    "netG:add(SpatialConvolution(ngf * 2, ngf * 4, 4, 4, 2, 2, 1, 1))\n",
    "netG:add(SpatialBatchNormalization(ngf * 4)):add(nn.LeakyReLU(0.2, true))\n",
    "-- state size: (ngf*4) x 8 x 8\n",
    "netG:add(SpatialConvolution(ngf * 4, ngf * 8, 4, 4, 2, 2, 1, 1))\n",
    "netG:add(SpatialBatchNormalization(ngf * 8)):add(nn.LeakyReLU(0.2, true))\n",
    "-- state size: (ngf*8) x 4 x 4\n",
    "\n",
    "-- netG:add(SpatialConvolution(ngf * 8, ngf * 16, 4, 4, 2, 2, 1, 1))\n",
    "-- netG:add(SpatialBatchNormalization(ndf * 16)):add(nn.LeakyReLU(0.2, true))\n",
    "-- state size: (ngf*16) x 2 x 2\n",
    "\n",
    "-- netG:add(SpatialFullConvolution(ngf*16, ngf * 8, 4, 4))\n",
    "-- netG:add(SpatialBatchNormalization(ngf * 8)):add(nn.ReLU(true))\n",
    "-- state size: (ngf*8) x 4 x 4\n",
    "netG:add(SpatialFullConvolution(ngf * 8, ngf * 4, 4, 4, 2, 2, 1, 1))\n",
    "netG:add(SpatialBatchNormalization(ngf * 4)):add(nn.ReLU(true))\n",
    "-- state size: (ngf*4) x 8 x 8\n",
    "netG:add(SpatialFullConvolution(ngf * 4, ngf * 2, 4, 4, 2, 2, 1, 1))\n",
    "netG:add(SpatialBatchNormalization(ngf * 2)):add(nn.ReLU(true))\n",
    "-- state size: (ngf*2) x 16 x 16\n",
    "netG:add(SpatialFullConvolution(ngf * 2, ngf, 4, 4, 2, 2, 1, 1))\n",
    "netG:add(SpatialBatchNormalization(ngf)):add(nn.ReLU(true))\n",
    "-- state size: (ngf) x 32 x 32\n",
    "netG:add(SpatialFullConvolution(ngf, nc, 4, 4, 2, 2, 1, 1))\n",
    "netG:add(nn.Tanh())\n",
    "netG:add(nn.Clamp(-intensity, intensity))\n",
    "\n",
    "-- state size: (nc) x 64 x 64\n",
    "\n",
    "netG:apply(weights_init)\n",
    "\n",
    "modelG = nn.Sequential()\n",
    "         :add(nn.ConcatTable()\n",
    "            :add(netG)\n",
    "            :add(nn.Identity()))\n",
    "         :add(nn.CAddTable(true))\n",
    "\n",
    "\n",
    "print(modelG)\n",
    "\n",
    "\n"
   ]
  },
  {
   "cell_type": "code",
   "execution_count": 14,
   "metadata": {
    "collapsed": false
   },
   "outputs": [
    {
     "data": {
      "text/plain": [
       "ConfusionMatrix:\n",
       "[[      20       0       0       0       0       0       0       0       1       0]   95.238% \t[class: 1]\n",
       " [       0       2       2       0      10       0       0       3       9       0]   7.692% \t[class: 2]\n",
       " [       1       1       9       8       0       0       0       1       0       0]   45.000% \t[class: 3]\n",
       " [       0       0       0      21       0       0       0       0       0       0]   100.000% \t[class: 4]\n",
       " [       0       0       0       0      17       0       0       0       3       1]   80.952% \t[class: 5]\n",
       " [       0       1       0       2       0       2       0       0       8       0]   15.385% \t[class: 6]\n",
       " [       0       0       0       0       0       2      15       0       2       0]   78.947% \t[class: 7]\n",
       " [       0       0       0       3       0       0       0      10       1       7]   47.619% \t[class: 8]\n",
       " [       0       0       0       0       0       0       0       0      15       0]   100.000% \t[class: 9]\n",
       " [       0       0       0       0       4       1       0       3       3      12]]  52.174% \t[class: 10]\n",
       " + average row correct: 62.300773188472% \n",
       " + average rowUcol correct (VOC measure): 45.088279619813% \n",
       " + global correct: 61.5%\n",
       "{\n",
       "  _mat_flat : LongTensor - size: 100\n",
       "  valids : FloatTensor - size: 10\n",
       "  mat : LongTensor - size: 10x10\n",
       "  averageUnionValid : 0.45088279619813\n",
       "  _targ_idx : LongTensor - empty\n",
       "  averageValid : 0.62300773188472\n",
       "  classes : \n",
       "    {\n",
       "      1 : 1\n",
       "      2 : 2\n",
       "      3 : 3\n",
       "      4 : 4\n",
       "      5 : 5\n",
       "      6 : 6\n",
       "      7 : 7\n",
       "      8 : 8\n",
       "     "
      ]
     },
     "execution_count": 14,
     "metadata": {},
     "output_type": "execute_result"
    },
    {
     "data": {
      "text/plain": [
       " 9 : 9\n",
       "      10 : 10\n",
       "    }\n",
       "  _prediction : FloatTensor - size: 10\n",
       "  _pred_idx : LongTensor - size: 1\n",
       "  nclasses : 10\n",
       "  _max : FloatTensor - size: 1\n",
       "  _target : FloatTensor - empty\n",
       "  unionvalids : FloatTensor - size: 10\n",
       "  totalValid : 0.615\n",
       "}\n"
      ]
     },
     "execution_count": 14,
     "metadata": {},
     "output_type": "execute_result"
    },
    {
     "data": {
      "text/plain": [
       "<trainer> loss on training set:1.1344811458654\t\n"
      ]
     },
     "execution_count": 14,
     "metadata": {},
     "output_type": "execute_result"
    },
    {
     "data": {
      "text/plain": [
       "<trainer> loss on training set:1.1397594597299\t\n"
      ]
     },
     "execution_count": 14,
     "metadata": {},
     "output_type": "execute_result"
    },
    {
     "data": {
      "text/plain": [
       "<trainer> loss on training set:1.1448897378545\t\n"
      ]
     },
     "execution_count": 14,
     "metadata": {},
     "output_type": "execute_result"
    },
    {
     "data": {
      "text/plain": [
       "<trainer> loss on training set:1.1497564339666\t\n"
      ]
     },
     "execution_count": 14,
     "metadata": {},
     "output_type": "execute_result"
    },
    {
     "data": {
      "text/plain": [
       "<trainer> loss on training set:1.1544305210504\t\n"
      ]
     },
     "execution_count": 14,
     "metadata": {},
     "output_type": "execute_result"
    },
    {
     "data": {
      "text/plain": [
       "<trainer> loss on training set:1.1589253451476\t\n"
      ]
     },
     "execution_count": 14,
     "metadata": {},
     "output_type": "execute_result"
    },
    {
     "data": {
      "text/plain": [
       "<trainer> loss on training set:1.1632949075808\t\n"
      ]
     },
     "execution_count": 14,
     "metadata": {},
     "output_type": "execute_result"
    },
    {
     "data": {
      "text/plain": [
       "<trainer> loss on training set:1.1675303949169\t\n"
      ]
     },
     "execution_count": 14,
     "metadata": {},
     "output_type": "execute_result"
    },
    {
     "data": {
      "text/plain": [
       "<trainer> loss on training set:1.1716424837537\t\n"
      ]
     },
     "execution_count": 14,
     "metadata": {},
     "output_type": "execute_result"
    },
    {
     "data": {
      "text/plain": [
       "<trainer> loss on training set:1.1756618326862\t\n"
      ]
     },
     "execution_count": 14,
     "metadata": {},
     "output_type": "execute_result"
    },
    {
     "data": {
      "text/plain": [
       "<trainer> loss on training set:1.1795532312274\t\n"
      ]
     },
     "execution_count": 14,
     "metadata": {},
     "output_type": "execute_result"
    },
    {
     "data": {
      "text/plain": [
       "<trainer> loss on training set:1.183314705748\t\n"
      ]
     },
     "execution_count": 14,
     "metadata": {},
     "output_type": "execute_result"
    },
    {
     "data": {
      "text/plain": [
       "<trainer> loss on training set:1.1869100333992\t\n"
      ]
     },
     "execution_count": 14,
     "metadata": {},
     "output_type": "execute_result"
    },
    {
     "data": {
      "text/plain": [
       "<trainer> loss on training set:1.1904417284517\t\n"
      ]
     },
     "execution_count": 14,
     "metadata": {},
     "output_type": "execute_result"
    },
    {
     "data": {
      "text/plain": [
       "<trainer> loss on training set:1.1939195054749\t\n"
      ]
     },
     "execution_count": 14,
     "metadata": {},
     "output_type": "execute_result"
    },
    {
     "data": {
      "text/plain": [
       "<trainer> loss on training set:1.1973381357973\t\n"
      ]
     },
     "execution_count": 14,
     "metadata": {},
     "output_type": "execute_result"
    },
    {
     "data": {
      "text/plain": [
       "<trainer> loss on training set:1.2006932006719\t\n"
      ]
     },
     "execution_count": 14,
     "metadata": {},
     "output_type": "execute_result"
    },
    {
     "data": {
      "text/plain": [
       "<trainer> loss on training set:1.2039706908297\t\n"
      ]
     },
     "execution_count": 14,
     "metadata": {},
     "output_type": "execute_result"
    },
    {
     "data": {
      "text/plain": [
       "<trainer> loss on training set:1.2071087808183\t\n"
      ]
     },
     "execution_count": 14,
     "metadata": {},
     "output_type": "execute_result"
    },
    {
     "data": {
      "text/plain": [
       "<trainer> loss on training set:1.2101988505949\t\n"
      ]
     },
     "execution_count": 14,
     "metadata": {},
     "output_type": "execute_result"
    },
    {
     "data": {
      "text/plain": [
       "<trainer> loss on training set:1.2132683969688\t\n"
      ]
     },
     "execution_count": 14,
     "metadata": {},
     "output_type": "execute_result"
    },
    {
     "data": {
      "text/plain": [
       "<trainer> loss on training set:1.2162770813843\t\n"
      ]
     },
     "execution_count": 14,
     "metadata": {},
     "output_type": "execute_result"
    },
    {
     "data": {
      "text/plain": [
       "<trainer> loss on training set:1.2191877323058\t\n"
      ]
     },
     "execution_count": 14,
     "metadata": {},
     "output_type": "execute_result"
    },
    {
     "data": {
      "text/plain": [
       "<trainer> loss on training set:1.2219980356541\t\n"
      ]
     },
     "execution_count": 14,
     "metadata": {},
     "output_type": "execute_result"
    },
    {
     "data": {
      "text/plain": [
       "<trainer> loss on training set:1.2247103277843\t\n"
      ]
     },
     "execution_count": 14,
     "metadata": {},
     "output_type": "execute_result"
    },
    {
     "data": {
      "text/plain": [
       "<trainer> loss on training set:1.2273618965227\t\n"
      ]
     },
     "execution_count": 14,
     "metadata": {},
     "output_type": "execute_result"
    },
    {
     "data": {
      "text/plain": [
       "<trainer> loss on training set:1.2299859354667\t\n"
      ]
     },
     "execution_count": 14,
     "metadata": {},
     "output_type": "execute_result"
    },
    {
     "data": {
      "text/plain": [
       "<trainer> loss on training set:1.232544053483\t\n"
      ]
     },
     "execution_count": 14,
     "metadata": {},
     "output_type": "execute_result"
    },
    {
     "data": {
      "text/plain": [
       "<trainer> loss on training set:1.2350354192345\t\n"
      ]
     },
     "execution_count": 14,
     "metadata": {},
     "output_type": "execute_result"
    },
    {
     "data": {
      "text/plain": [
       "<trainer> loss on training set:1.2374660770272\t\n"
      ]
     },
     "execution_count": 14,
     "metadata": {},
     "output_type": "execute_result"
    },
    {
     "data": {
      "text/plain": [
       "<trainer> loss on training set:1.2398767351836\t\n"
      ]
     },
     "execution_count": 14,
     "metadata": {},
     "output_type": "execute_result"
    },
    {
     "data": {
      "text/plain": [
       "<trainer> loss on training set:1.2422203343512\t\n"
      ]
     },
     "execution_count": 14,
     "metadata": {},
     "output_type": "execute_result"
    },
    {
     "data": {
      "text/plain": [
       "<trainer> loss on training set:1.2445315354664\t\n"
      ]
     },
     "execution_count": 14,
     "metadata": {},
     "output_type": "execute_result"
    },
    {
     "data": {
      "text/plain": [
       "<trainer> loss on training set:1.2467852505407\t\n"
      ]
     },
     "execution_count": 14,
     "metadata": {},
     "output_type": "execute_result"
    },
    {
     "data": {
      "text/plain": [
       "<trainer> loss on training set:1.2490108092755\t\n"
      ]
     },
     "execution_count": 14,
     "metadata": {},
     "output_type": "execute_result"
    },
    {
     "data": {
      "text/plain": [
       "<trainer> loss on training set:1.2512470162055\t\n"
      ]
     },
     "execution_count": 14,
     "metadata": {},
     "output_type": "execute_result"
    },
    {
     "data": {
      "text/plain": [
       "<trainer> loss on training set:1.2534726646509\t\n"
      ]
     },
     "execution_count": 14,
     "metadata": {},
     "output_type": "execute_result"
    },
    {
     "data": {
      "text/plain": [
       "<trainer> loss on training set:1.2556471327116\t\n"
      ]
     },
     "execution_count": 14,
     "metadata": {},
     "output_type": "execute_result"
    },
    {
     "data": {
      "text/plain": [
       "<trainer> loss on training set:1.2578240689853\t\n"
      ]
     },
     "execution_count": 14,
     "metadata": {},
     "output_type": "execute_result"
    },
    {
     "data": {
      "text/plain": [
       "<trainer> loss on training set:1.259942344076\t\n"
      ]
     },
     "execution_count": 14,
     "metadata": {},
     "output_type": "execute_result"
    },
    {
     "data": {
      "text/plain": [
       "<trainer> loss on training set:1.2620245913642\t\n"
      ]
     },
     "execution_count": 14,
     "metadata": {},
     "output_type": "execute_result"
    },
    {
     "data": {
      "text/plain": [
       "<trainer> loss on training set:1.2640562061913\t\n"
      ]
     },
     "execution_count": 14,
     "metadata": {},
     "output_type": "execute_result"
    },
    {
     "data": {
      "text/plain": [
       "<trainer> loss on training set:1.2660841923693\t\n"
      ]
     },
     "execution_count": 14,
     "metadata": {},
     "output_type": "execute_result"
    },
    {
     "data": {
      "text/plain": [
       "<trainer> loss on training set:1.2680712561059\t\n"
      ]
     },
     "execution_count": 14,
     "metadata": {},
     "output_type": "execute_result"
    },
    {
     "data": {
      "text/plain": [
       "<trainer> loss on training set:1.2700272125067\t\n"
      ]
     },
     "execution_count": 14,
     "metadata": {},
     "output_type": "execute_result"
    },
    {
     "data": {
      "text/plain": [
       "<trainer> loss on training set:1.2719481900548\t\n"
      ]
     },
     "execution_count": 14,
     "metadata": {},
     "output_type": "execute_result"
    },
    {
     "data": {
      "text/plain": [
       "<trainer> loss on training set:1.273895681819\t\n"
      ]
     },
     "execution_count": 14,
     "metadata": {},
     "output_type": "execute_result"
    },
    {
     "data": {
      "text/plain": [
       "<trainer> loss on training set:1.2757826411554\t\n"
      ]
     },
     "execution_count": 14,
     "metadata": {},
     "output_type": "execute_result"
    },
    {
     "data": {
      "text/plain": [
       "<trainer> loss on training set:1.2776790906517\t\n"
      ]
     },
     "execution_count": 14,
     "metadata": {},
     "output_type": "execute_result"
    },
    {
     "data": {
      "text/plain": [
       "<trainer> loss on training set:1.2795392349095\t\n"
      ]
     },
     "execution_count": 14,
     "metadata": {},
     "output_type": "execute_result"
    },
    {
     "data": {
      "text/plain": [
       "<trainer> loss on training set:1.281375847115\t"
      ]
     },
     "execution_count": 14,
     "metadata": {},
     "output_type": "execute_result"
    },
    {
     "data": {
      "text/plain": [
       "\n"
      ]
     },
     "execution_count": 14,
     "metadata": {},
     "output_type": "execute_result"
    },
    {
     "data": {
      "text/plain": [
       "<trainer> loss on training set:1.2832173397255\t\n"
      ]
     },
     "execution_count": 14,
     "metadata": {},
     "output_type": "execute_result"
    },
    {
     "data": {
      "text/plain": [
       "<trainer> loss on training set:1.2850589895317\t\n"
      ]
     },
     "execution_count": 14,
     "metadata": {},
     "output_type": "execute_result"
    },
    {
     "data": {
      "text/plain": [
       "<trainer> loss on training set:1.2868846430802\t\n"
      ]
     },
     "execution_count": 14,
     "metadata": {},
     "output_type": "execute_result"
    },
    {
     "data": {
      "text/plain": [
       "<trainer> loss on training set:1.2886722926173\t\n"
      ]
     },
     "execution_count": 14,
     "metadata": {},
     "output_type": "execute_result"
    },
    {
     "data": {
      "text/plain": [
       "<trainer> loss on training set:1.2904762282653\t\n"
      ]
     },
     "execution_count": 14,
     "metadata": {},
     "output_type": "execute_result"
    },
    {
     "data": {
      "text/plain": [
       "<trainer> loss on training set:1.2922396576151\t\n"
      ]
     },
     "execution_count": 14,
     "metadata": {},
     "output_type": "execute_result"
    },
    {
     "data": {
      "text/plain": [
       "<trainer> loss on training set:1.2940074503144\t\n"
      ]
     },
     "execution_count": 14,
     "metadata": {},
     "output_type": "execute_result"
    },
    {
     "data": {
      "text/plain": [
       "<trainer> loss on training set:1.2957495146017\t\n"
      ]
     },
     "execution_count": 14,
     "metadata": {},
     "output_type": "execute_result"
    },
    {
     "data": {
      "text/plain": [
       "<trainer> loss on training set:1.2974919087451\t\n"
      ]
     },
     "execution_count": 14,
     "metadata": {},
     "output_type": "execute_result"
    },
    {
     "data": {
      "text/plain": [
       "<trainer> loss on training set:1.2992152054011\t\n"
      ]
     },
     "execution_count": 14,
     "metadata": {},
     "output_type": "execute_result"
    },
    {
     "data": {
      "text/plain": [
       "<trainer> loss on training set:1.3009172396049\t\n"
      ]
     },
     "execution_count": 14,
     "metadata": {},
     "output_type": "execute_result"
    },
    {
     "data": {
      "text/plain": [
       "<trainer> loss on training set:1.3025637172898\t\n"
      ]
     },
     "execution_count": 14,
     "metadata": {},
     "output_type": "execute_result"
    },
    {
     "data": {
      "text/plain": [
       "<trainer> loss on training set:1.3042089408774\t\n"
      ]
     },
     "execution_count": 14,
     "metadata": {},
     "output_type": "execute_result"
    },
    {
     "data": {
      "text/plain": [
       "<trainer> loss on training set:1.3058732724807\t\n"
      ]
     },
     "execution_count": 14,
     "metadata": {},
     "output_type": "execute_result"
    },
    {
     "data": {
      "text/plain": [
       "<trainer> loss on training set:1.3074951318305\t\n"
      ]
     },
     "execution_count": 14,
     "metadata": {},
     "output_type": "execute_result"
    },
    {
     "data": {
      "text/plain": [
       "<trainer> loss on training set:1.3091260994735\t\n"
      ]
     },
     "execution_count": 14,
     "metadata": {},
     "output_type": "execute_result"
    },
    {
     "data": {
      "text/plain": [
       "<trainer> loss on training set:1.3107395111685\t\n"
      ]
     },
     "execution_count": 14,
     "metadata": {},
     "output_type": "execute_result"
    },
    {
     "data": {
      "text/plain": [
       "<trainer> loss on training set:1.3123740132639\t\n"
      ]
     },
     "execution_count": 14,
     "metadata": {},
     "output_type": "execute_result"
    },
    {
     "data": {
      "text/plain": [
       "<trainer> loss on training set:1.314053474199\t\n"
      ]
     },
     "execution_count": 14,
     "metadata": {},
     "output_type": "execute_result"
    },
    {
     "data": {
      "text/plain": [
       "<trainer> loss on training set:1.3158134361316\t\n"
      ]
     },
     "execution_count": 14,
     "metadata": {},
     "output_type": "execute_result"
    },
    {
     "data": {
      "text/plain": [
       "<trainer> loss on training set:1.3174298689404\t\n"
      ]
     },
     "execution_count": 14,
     "metadata": {},
     "output_type": "execute_result"
    },
    {
     "data": {
      "text/plain": [
       "<trainer> loss on training set:1.3190873213191\t\n"
      ]
     },
     "execution_count": 14,
     "metadata": {},
     "output_type": "execute_result"
    },
    {
     "data": {
      "text/plain": [
       "<trainer> loss on training set:1.3206149943913\t\n"
      ]
     },
     "execution_count": 14,
     "metadata": {},
     "output_type": "execute_result"
    },
    {
     "data": {
      "text/plain": [
       "<trainer> loss on training set:1.3222963067864\t\n"
      ]
     },
     "execution_count": 14,
     "metadata": {},
     "output_type": "execute_result"
    },
    {
     "data": {
      "text/plain": [
       "<trainer> loss on training set:1.3238840135847\t\n"
      ]
     },
     "execution_count": 14,
     "metadata": {},
     "output_type": "execute_result"
    },
    {
     "data": {
      "text/plain": [
       "<trainer> loss on training set:1.3255301241115\t\n"
      ]
     },
     "execution_count": 14,
     "metadata": {},
     "output_type": "execute_result"
    },
    {
     "data": {
      "text/plain": [
       "<trainer> loss on training set:1.3270498544081\t\n"
      ]
     },
     "execution_count": 14,
     "metadata": {},
     "output_type": "execute_result"
    },
    {
     "data": {
      "text/plain": [
       "<trainer> loss on training set:1.328755253536\t\n"
      ]
     },
     "execution_count": 14,
     "metadata": {},
     "output_type": "execute_result"
    },
    {
     "data": {
      "text/plain": [
       "<trainer> loss on training set:1.3303262327322\t\n"
      ]
     },
     "execution_count": 14,
     "metadata": {},
     "output_type": "execute_result"
    },
    {
     "data": {
      "text/plain": [
       "<trainer> loss on training set:1.3320123467587\t\n"
      ]
     },
     "execution_count": 14,
     "metadata": {},
     "output_type": "execute_result"
    },
    {
     "data": {
      "text/plain": [
       "<trainer> loss on training set:1.3336448301656\t\n"
      ]
     },
     "execution_count": 14,
     "metadata": {},
     "output_type": "execute_result"
    },
    {
     "data": {
      "text/plain": [
       "<trainer> loss on training set:1.3352848742756\t\n"
      ]
     },
     "execution_count": 14,
     "metadata": {},
     "output_type": "execute_result"
    },
    {
     "data": {
      "text/plain": [
       "<trainer> loss on training set:1.336890191469\t\n"
      ]
     },
     "execution_count": 14,
     "metadata": {},
     "output_type": "execute_result"
    },
    {
     "data": {
      "text/plain": [
       "<trainer> loss on training set:1.3384811259788\t\n"
      ]
     },
     "execution_count": 14,
     "metadata": {},
     "output_type": "execute_result"
    },
    {
     "data": {
      "text/plain": [
       "<trainer> loss on training set:1.3400410147974\t\n"
      ]
     },
     "execution_count": 14,
     "metadata": {},
     "output_type": "execute_result"
    },
    {
     "data": {
      "text/plain": [
       "<trainer> loss on training set:1.3415899924749\t\n"
      ]
     },
     "execution_count": 14,
     "metadata": {},
     "output_type": "execute_result"
    },
    {
     "data": {
      "text/plain": [
       "<trainer> loss on training set:1.3430411884252\t\n"
      ]
     },
     "execution_count": 14,
     "metadata": {},
     "output_type": "execute_result"
    },
    {
     "data": {
      "text/plain": [
       "<trainer> loss on training set:1.3447422094377\t\n"
      ]
     },
     "execution_count": 14,
     "metadata": {},
     "output_type": "execute_result"
    },
    {
     "data": {
      "text/plain": [
       "<trainer> loss on training set:1.3462095859646\t\n"
      ]
     },
     "execution_count": 14,
     "metadata": {},
     "output_type": "execute_result"
    },
    {
     "data": {
      "text/plain": [
       "<trainer> loss on training set:1.3479294836581\t\n"
      ]
     },
     "execution_count": 14,
     "metadata": {},
     "output_type": "execute_result"
    },
    {
     "data": {
      "text/plain": [
       "<trainer> loss on training set:1.3494127572502\t\n"
      ]
     },
     "execution_count": 14,
     "metadata": {},
     "output_type": "execute_result"
    },
    {
     "data": {
      "text/plain": [
       "<trainer> loss on training set:1.3510925656725\t\n"
      ]
     },
     "execution_count": 14,
     "metadata": {},
     "output_type": "execute_result"
    },
    {
     "data": {
      "text/plain": [
       "<trainer> loss on training set:1.3526121861332\t\n"
      ]
     },
     "execution_count": 14,
     "metadata": {},
     "output_type": "execute_result"
    },
    {
     "data": {
      "text/plain": [
       "<trainer> loss on training set:1.3542960823311\t\n"
      ]
     },
     "execution_count": 14,
     "metadata": {},
     "output_type": "execute_result"
    },
    {
     "data": {
      "text/plain": [
       "<trainer> loss on training set:1.3558001524438\t\n"
      ]
     },
     "execution_count": 14,
     "metadata": {},
     "output_type": "execute_result"
    },
    {
     "data": {
      "text/plain": [
       "<trainer> loss on training set:1.3574417722231\t\n"
      ]
     },
     "execution_count": 14,
     "metadata": {},
     "output_type": "execute_result"
    },
    {
     "data": {
      "text/plain": [
       "<trainer> loss on training set:1.3589557249056\t\n"
      ]
     },
     "execution_count": 14,
     "metadata": {},
     "output_type": "execute_result"
    },
    {
     "data": {
      "text/plain": [
       "<trainer> loss on training set:1.360593138479\t\n"
      ]
     },
     "execution_count": 14,
     "metadata": {},
     "output_type": "execute_result"
    },
    {
     "data": {
      "text/plain": [
       "<trainer> loss on training set:1.3621298848912\t\n"
      ]
     },
     "execution_count": 14,
     "metadata": {},
     "output_type": "execute_result"
    },
    {
     "data": {
      "text/plain": [
       "<trainer> loss on training set:1.3637380390392\t\n"
      ]
     },
     "execution_count": 14,
     "metadata": {},
     "output_type": "execute_result"
    },
    {
     "data": {
      "text/plain": [
       "<trainer> loss on training set:1.3652996405545\t\n"
      ]
     },
     "execution_count": 14,
     "metadata": {},
     "output_type": "execute_result"
    },
    {
     "data": {
      "text/plain": [
       "<trainer> loss on training set:1.366916566635\t\n"
      ]
     },
     "execution_count": 14,
     "metadata": {},
     "output_type": "execute_result"
    },
    {
     "data": {
      "text/plain": [
       "<trainer> loss on training set:1.3685277726128\t\n"
      ]
     },
     "execution_count": 14,
     "metadata": {},
     "output_type": "execute_result"
    },
    {
     "data": {
      "text/plain": [
       "<trainer> loss on training set:1.3701847825149\t\n"
      ]
     },
     "execution_count": 14,
     "metadata": {},
     "output_type": "execute_result"
    },
    {
     "data": {
      "text/plain": [
       "<trainer> loss on training set:1.3718475492944\t\n"
      ]
     },
     "execution_count": 14,
     "metadata": {},
     "output_type": "execute_result"
    },
    {
     "data": {
      "text/plain": [
       "<trainer> loss on training set:1.3735289146577\t\n"
      ]
     },
     "execution_count": 14,
     "metadata": {},
     "output_type": "execute_result"
    },
    {
     "data": {
      "text/plain": [
       "<trainer> loss on training set:1.3751527590216\t\n"
      ]
     },
     "execution_count": 14,
     "metadata": {},
     "output_type": "execute_result"
    },
    {
     "data": {
      "text/plain": [
       "<trainer> loss on training set:1.3767846467618\t\n"
      ]
     },
     "execution_count": 14,
     "metadata": {},
     "output_type": "execute_result"
    },
    {
     "data": {
      "text/plain": [
       "<trainer> loss on training set:1.3783733973673\t\n"
      ]
     },
     "execution_count": 14,
     "metadata": {},
     "output_type": "execute_result"
    },
    {
     "data": {
      "text/plain": [
       "<trainer> loss on training set:1.3799143880526\t\n"
      ]
     },
     "execution_count": 14,
     "metadata": {},
     "output_type": "execute_result"
    },
    {
     "data": {
      "text/plain": [
       "<trainer> loss on training set:1.3813524024167\t\n"
      ]
     },
     "execution_count": 14,
     "metadata": {},
     "output_type": "execute_result"
    },
    {
     "data": {
      "text/plain": [
       "<trainer> loss on training set:1.3828286720623\t\n"
      ]
     },
     "execution_count": 14,
     "metadata": {},
     "output_type": "execute_result"
    },
    {
     "data": {
      "text/plain": [
       "<trainer> loss on training set:1.3842691612004\t\n"
      ]
     },
     "execution_count": 14,
     "metadata": {},
     "output_type": "execute_result"
    },
    {
     "data": {
      "text/plain": [
       "<trainer> loss on training set:1.3858403624574\t\n"
      ]
     },
     "execution_count": 14,
     "metadata": {},
     "output_type": "execute_result"
    },
    {
     "data": {
      "text/plain": [
       "<trainer> loss on training set:1.3874183577335\t\n"
      ]
     },
     "execution_count": 14,
     "metadata": {},
     "output_type": "execute_result"
    },
    {
     "data": {
      "text/plain": [
       "<trainer> loss on training set:1.3890893030136\t\n"
      ]
     },
     "execution_count": 14,
     "metadata": {},
     "output_type": "execute_result"
    },
    {
     "data": {
      "text/plain": [
       "<trainer> loss on training set:1.3908498748214\t\n"
      ]
     },
     "execution_count": 14,
     "metadata": {},
     "output_type": "execute_result"
    },
    {
     "data": {
      "text/plain": [
       "<trainer> loss on training set:1.392551256219\t\n"
      ]
     },
     "execution_count": 14,
     "metadata": {},
     "output_type": "execute_result"
    },
    {
     "data": {
      "text/plain": [
       "<trainer> loss on training set:1.3943490823244\t\n"
      ]
     },
     "execution_count": 14,
     "metadata": {},
     "output_type": "execute_result"
    },
    {
     "data": {
      "text/plain": [
       "<trainer> loss on training set:1.3961114216943\t\n"
      ]
     },
     "execution_count": 14,
     "metadata": {},
     "output_type": "execute_result"
    },
    {
     "data": {
      "text/plain": [
       "<trainer> loss on training set:1.3978480381135\t\n"
      ]
     },
     "execution_count": 14,
     "metadata": {},
     "output_type": "execute_result"
    },
    {
     "data": {
      "text/plain": [
       "<trainer> loss on training set:1.3995463275838\t\n"
      ]
     },
     "execution_count": 14,
     "metadata": {},
     "output_type": "execute_result"
    },
    {
     "data": {
      "text/plain": [
       "<trainer> loss on training set:1.4012504545864\t\n"
      ]
     },
     "execution_count": 14,
     "metadata": {},
     "output_type": "execute_result"
    },
    {
     "data": {
      "text/plain": [
       "<trainer> loss on training set:1.4028266520151\t\n"
      ]
     },
     "execution_count": 14,
     "metadata": {},
     "output_type": "execute_result"
    },
    {
     "data": {
      "text/plain": [
       "<trainer> loss on training set:1.4045458664551\t\n"
      ]
     },
     "execution_count": 14,
     "metadata": {},
     "output_type": "execute_result"
    },
    {
     "data": {
      "text/plain": [
       "<trainer> loss on training set:1.4061512059676\t\n"
      ]
     },
     "execution_count": 14,
     "metadata": {},
     "output_type": "execute_result"
    },
    {
     "data": {
      "text/plain": [
       "<trainer> loss on training set:1.4078433893318\t\n"
      ]
     },
     "execution_count": 14,
     "metadata": {},
     "output_type": "execute_result"
    },
    {
     "data": {
      "text/plain": [
       "<trainer> loss on training set:1.40938551103\t\n"
      ]
     },
     "execution_count": 14,
     "metadata": {},
     "output_type": "execute_result"
    },
    {
     "data": {
      "text/plain": [
       "<trainer> loss on training set:1.4110473004482\t\n"
      ]
     },
     "execution_count": 14,
     "metadata": {},
     "output_type": "execute_result"
    },
    {
     "data": {
      "text/plain": [
       "<trainer> loss on training set:1.4126403594129\t\n"
      ]
     },
     "execution_count": 14,
     "metadata": {},
     "output_type": "execute_result"
    },
    {
     "data": {
      "text/plain": [
       "<trainer> loss on training set:1.4143551897768\t\n"
      ]
     },
     "execution_count": 14,
     "metadata": {},
     "output_type": "execute_result"
    },
    {
     "data": {
      "text/plain": [
       "<trainer> loss on training set:1.4159542665525\t\n"
      ]
     },
     "execution_count": 14,
     "metadata": {},
     "output_type": "execute_result"
    },
    {
     "data": {
      "text/plain": [
       "<trainer> loss on training set:1.4175421578336\t\n"
      ]
     },
     "execution_count": 14,
     "metadata": {},
     "output_type": "execute_result"
    },
    {
     "data": {
      "text/plain": [
       "<trainer> loss on training set:1.4190511997359\t\n"
      ]
     },
     "execution_count": 14,
     "metadata": {},
     "output_type": "execute_result"
    },
    {
     "data": {
      "text/plain": [
       "<trainer> loss on training set:1.4203999092667\t\n"
      ]
     },
     "execution_count": 14,
     "metadata": {},
     "output_type": "execute_result"
    },
    {
     "data": {
      "text/plain": [
       "<trainer> loss on training set:1.4223554550865\t\n"
      ]
     },
     "execution_count": 14,
     "metadata": {},
     "output_type": "execute_result"
    },
    {
     "data": {
      "text/plain": [
       "<trainer> loss on training set:1.4239946887693\t\n"
      ]
     },
     "execution_count": 14,
     "metadata": {},
     "output_type": "execute_result"
    },
    {
     "data": {
      "text/plain": [
       "<trainer> loss on training set:1.4259294473641\t\n"
      ]
     },
     "execution_count": 14,
     "metadata": {},
     "output_type": "execute_result"
    },
    {
     "data": {
      "text/plain": [
       "<trainer> loss on training set:1.4276875922496\t\n"
      ]
     },
     "execution_count": 14,
     "metadata": {},
     "output_type": "execute_result"
    },
    {
     "data": {
      "text/plain": [
       "<trainer> loss on training set:1.4296061820875\t\n"
      ]
     },
     "execution_count": 14,
     "metadata": {},
     "output_type": "execute_result"
    },
    {
     "data": {
      "text/plain": [
       "<trainer> loss on training set:1.4313005167291\t\n"
      ]
     },
     "execution_count": 14,
     "metadata": {},
     "output_type": "execute_result"
    },
    {
     "data": {
      "text/plain": [
       "<trainer> loss on training set:1.4331274336748\t\n"
      ]
     },
     "execution_count": 14,
     "metadata": {},
     "output_type": "execute_result"
    },
    {
     "data": {
      "text/plain": [
       "<trainer> loss on training set:1.4348685012435\t\n"
      ]
     },
     "execution_count": 14,
     "metadata": {},
     "output_type": "execute_result"
    },
    {
     "data": {
      "text/plain": [
       "<trainer> loss on training set:1.436594787093\t\n"
      ]
     },
     "execution_count": 14,
     "metadata": {},
     "output_type": "execute_result"
    },
    {
     "data": {
      "text/plain": [
       "<trainer> loss on training set:1.4383219940344\t\n"
      ]
     },
     "execution_count": 14,
     "metadata": {},
     "output_type": "execute_result"
    },
    {
     "data": {
      "text/plain": [
       "<trainer> loss on training set:1.4399965572047\t\n"
      ]
     },
     "execution_count": 14,
     "metadata": {},
     "output_type": "execute_result"
    },
    {
     "data": {
      "text/plain": [
       "<trainer> loss on training set:1.4418279002068\t\n"
      ]
     },
     "execution_count": 14,
     "metadata": {},
     "output_type": "execute_result"
    },
    {
     "data": {
      "text/plain": [
       "<trainer> loss on training set:1.4434780233306\t\n"
      ]
     },
     "execution_count": 14,
     "metadata": {},
     "output_type": "execute_result"
    },
    {
     "data": {
      "text/plain": [
       "<trainer> loss on training set:1.4451546979524\t\n"
      ]
     },
     "execution_count": 14,
     "metadata": {},
     "output_type": "execute_result"
    },
    {
     "data": {
      "text/plain": [
       "<trainer> loss on training set:1.4468109888827\t\n"
      ]
     },
     "execution_count": 14,
     "metadata": {},
     "output_type": "execute_result"
    },
    {
     "data": {
      "text/plain": [
       "<trainer> loss on training set:1.4484718783226\t\n"
      ]
     },
     "execution_count": 14,
     "metadata": {},
     "output_type": "execute_result"
    },
    {
     "data": {
      "text/plain": [
       "<trainer> loss on training set:1.4501278529237\t\n"
      ]
     },
     "execution_count": 14,
     "metadata": {},
     "output_type": "execute_result"
    },
    {
     "data": {
      "text/plain": [
       "<trainer> loss on training set:1.4520484049794\t\n"
      ]
     },
     "execution_count": 14,
     "metadata": {},
     "output_type": "execute_result"
    },
    {
     "data": {
      "text/plain": [
       "<trainer> loss on training set:1.4535880161216\t\n"
      ]
     },
     "execution_count": 14,
     "metadata": {},
     "output_type": "execute_result"
    },
    {
     "data": {
      "text/plain": [
       "<trainer> loss on training set:1.4554521493183\t\n"
      ]
     },
     "execution_count": 14,
     "metadata": {},
     "output_type": "execute_result"
    },
    {
     "data": {
      "text/plain": [
       "<trainer> loss on training set:1.4571478363117\t\n"
      ]
     },
     "execution_count": 14,
     "metadata": {},
     "output_type": "execute_result"
    },
    {
     "data": {
      "text/plain": [
       "<trainer> loss on training set:1.4588809932908\t\n"
      ]
     },
     "execution_count": 14,
     "metadata": {},
     "output_type": "execute_result"
    },
    {
     "data": {
      "text/plain": [
       "<trainer> loss on training set:1.4604814689975\t\n"
      ]
     },
     "execution_count": 14,
     "metadata": {},
     "output_type": "execute_result"
    },
    {
     "data": {
      "text/plain": [
       "<trainer> loss on training set:1.462383122922\t\n"
      ]
     },
     "execution_count": 14,
     "metadata": {},
     "output_type": "execute_result"
    },
    {
     "data": {
      "text/plain": [
       "<trainer> loss on training set:1.4638736344829\t\n"
      ]
     },
     "execution_count": 14,
     "metadata": {},
     "output_type": "execute_result"
    },
    {
     "data": {
      "text/plain": [
       "<trainer> loss on training set:1.4660566401944\t\n"
      ]
     },
     "execution_count": 14,
     "metadata": {},
     "output_type": "execute_result"
    },
    {
     "data": {
      "text/plain": [
       "<trainer> loss on training set:1.4676157882584\t\n"
      ]
     },
     "execution_count": 14,
     "metadata": {},
     "output_type": "execute_result"
    },
    {
     "data": {
      "text/plain": [
       "<trainer> loss on training set:1.4695841369312\t\n"
      ]
     },
     "execution_count": 14,
     "metadata": {},
     "output_type": "execute_result"
    },
    {
     "data": {
      "text/plain": [
       "<trainer> loss on training set:1.471235674123\t\n"
      ]
     },
     "execution_count": 14,
     "metadata": {},
     "output_type": "execute_result"
    },
    {
     "data": {
      "text/plain": [
       "<trainer> loss on training set:1.4730087951142\t\n"
      ]
     },
     "execution_count": 14,
     "metadata": {},
     "output_type": "execute_result"
    },
    {
     "data": {
      "text/plain": [
       "<trainer> loss on training set:1.474460304241\t\n"
      ]
     },
     "execution_count": 14,
     "metadata": {},
     "output_type": "execute_result"
    },
    {
     "data": {
      "text/plain": [
       "<trainer> loss on training set:1.4764419026907\t\n"
      ]
     },
     "execution_count": 14,
     "metadata": {},
     "output_type": "execute_result"
    },
    {
     "data": {
      "text/plain": [
       "<trainer> loss on training set:1.4783003833253\t\n"
      ]
     },
     "execution_count": 14,
     "metadata": {},
     "output_type": "execute_result"
    },
    {
     "data": {
      "text/plain": [
       "<trainer> loss on training set:1.4803688213853\t\n"
      ]
     },
     "execution_count": 14,
     "metadata": {},
     "output_type": "execute_result"
    },
    {
     "data": {
      "text/plain": [
       "<trainer> loss on training set:1.4823882897896\t\n"
      ]
     },
     "execution_count": 14,
     "metadata": {},
     "output_type": "execute_result"
    },
    {
     "data": {
      "text/plain": [
       "<trainer> loss on training set:1.4846775872914\t\n"
      ]
     },
     "execution_count": 14,
     "metadata": {},
     "output_type": "execute_result"
    },
    {
     "data": {
      "text/plain": [
       "<trainer> loss on training set:1.486767154204\t\n"
      ]
     },
     "execution_count": 14,
     "metadata": {},
     "output_type": "execute_result"
    },
    {
     "data": {
      "text/plain": [
       "<trainer> loss on training set:1.4888368229934\t\n"
      ]
     },
     "execution_count": 14,
     "metadata": {},
     "output_type": "execute_result"
    },
    {
     "data": {
      "text/plain": [
       "<trainer> loss on training set:1.4907453080707\t\n"
      ]
     },
     "execution_count": 14,
     "metadata": {},
     "output_type": "execute_result"
    },
    {
     "data": {
      "text/plain": [
       "<trainer> loss on training set:1.4928345102787\t\n"
      ]
     },
     "execution_count": 14,
     "metadata": {},
     "output_type": "execute_result"
    },
    {
     "data": {
      "text/plain": [
       "<trainer> loss on training set:1.4945977459377\t\n"
      ]
     },
     "execution_count": 14,
     "metadata": {},
     "output_type": "execute_result"
    },
    {
     "data": {
      "text/plain": [
       "<trainer> loss on training set:1.4965590874811\t\n"
      ]
     },
     "execution_count": 14,
     "metadata": {},
     "output_type": "execute_result"
    },
    {
     "data": {
      "text/plain": [
       "<trainer> loss on training set:1.4982902089829\t\n"
      ]
     },
     "execution_count": 14,
     "metadata": {},
     "output_type": "execute_result"
    },
    {
     "data": {
      "text/plain": [
       "<trainer> loss on training set:1.5001444313785\t\n"
      ]
     },
     "execution_count": 14,
     "metadata": {},
     "output_type": "execute_result"
    },
    {
     "data": {
      "text/plain": [
       "<trainer> loss on training set:1.5018250450326\t\n"
      ]
     },
     "execution_count": 14,
     "metadata": {},
     "output_type": "execute_result"
    },
    {
     "data": {
      "text/plain": [
       "<trainer> loss on training set:1.5036707240517\t\n"
      ]
     },
     "execution_count": 14,
     "metadata": {},
     "output_type": "execute_result"
    },
    {
     "data": {
      "text/plain": [
       "<trainer> loss on training set:1.5052011887266\t\n"
      ]
     },
     "execution_count": 14,
     "metadata": {},
     "output_type": "execute_result"
    },
    {
     "data": {
      "text/plain": [
       "<trainer> loss on training set:1.5071346561683\t\n"
      ]
     },
     "execution_count": 14,
     "metadata": {},
     "output_type": "execute_result"
    },
    {
     "data": {
      "text/plain": [
       "<trainer> loss on training set:1.5083097776782\t\n"
      ]
     },
     "execution_count": 14,
     "metadata": {},
     "output_type": "execute_result"
    },
    {
     "data": {
      "text/plain": [
       "<trainer> loss on training set:1.5108178446911\t\n"
      ]
     },
     "execution_count": 14,
     "metadata": {},
     "output_type": "execute_result"
    },
    {
     "data": {
      "text/plain": [
       "<trainer> loss on training set:1.5122606997669\t\n"
      ]
     },
     "execution_count": 14,
     "metadata": {},
     "output_type": "execute_result"
    },
    {
     "data": {
      "text/plain": [
       "<trainer> loss on training set:1.5147589296145\t\n"
      ]
     },
     "execution_count": 14,
     "metadata": {},
     "output_type": "execute_result"
    },
    {
     "data": {
      "text/plain": [
       "<trainer> loss on training set:1.5163698484629\t\n"
      ]
     },
     "execution_count": 14,
     "metadata": {},
     "output_type": "execute_result"
    },
    {
     "data": {
      "text/plain": [
       "<trainer> loss on training set:1.5189683285445\t\n"
      ]
     },
     "execution_count": 14,
     "metadata": {},
     "output_type": "execute_result"
    },
    {
     "data": {
      "text/plain": [
       "<trainer> loss on training set:1.5208043355799\t\n"
      ]
     },
     "execution_count": 14,
     "metadata": {},
     "output_type": "execute_result"
    },
    {
     "data": {
      "text/plain": [
       "<trainer> loss on training set:1.5234875088038\t\n"
      ]
     },
     "execution_count": 14,
     "metadata": {},
     "output_type": "execute_result"
    },
    {
     "data": {
      "text/plain": [
       "<trainer> loss on training set:1.5255532406126\t\n"
      ]
     },
     "execution_count": 14,
     "metadata": {},
     "output_type": "execute_result"
    },
    {
     "data": {
      "text/plain": [
       "<trainer> loss on training set:1.5281075110433\t\n"
      ]
     },
     "execution_count": 14,
     "metadata": {},
     "output_type": "execute_result"
    },
    {
     "data": {
      "text/plain": [
       "<trainer> loss on training set:1.5301244125053\t\n"
      ]
     },
     "execution_count": 14,
     "metadata": {},
     "output_type": "execute_result"
    },
    {
     "data": {
      "text/plain": [
       "<trainer> loss on training set:1.5325838489082\t\n"
      ]
     },
     "execution_count": 14,
     "metadata": {},
     "output_type": "execute_result"
    },
    {
     "data": {
      "text/plain": [
       "<trainer> loss on training set:1.5345219103104\t\n"
      ]
     },
     "execution_count": 14,
     "metadata": {},
     "output_type": "execute_result"
    },
    {
     "data": {
      "text/plain": [
       "<trainer> loss on training set:1.5367137501844\t\n"
      ]
     },
     "execution_count": 14,
     "metadata": {},
     "output_type": "execute_result"
    },
    {
     "data": {
      "text/plain": [
       "<trainer> loss on training set:1.5385088674788\t\n"
      ]
     },
     "execution_count": 14,
     "metadata": {},
     "output_type": "execute_result"
    },
    {
     "data": {
      "text/plain": [
       "<trainer> loss on training set:1.5405603706839\t\n"
      ]
     },
     "execution_count": 14,
     "metadata": {},
     "output_type": "execute_result"
    },
    {
     "data": {
      "text/plain": [
       "ConfusionMatrix:\n",
       "[[      19       0       0       0       0       1       0       0       1       0]   90.476% \t[class: 1]\n",
       " [       0       2       2       0       8       0       0       3      11       0]   7.692% \t[class: 2]\n",
       " [       1       1       7       9       0       0       0       2       0       0]   35.000% \t[class: 3]\n",
       " [       0       0       0      20       0       0       0       0       0       1]   95.238% \t[class: 4]\n",
       " [       0       0       0       0      16       0       0       0       3       2]   76.190% \t[class: 5]\n",
       " [       0       1       0       3       0       1       0       0       8       0]   7.692% \t[class: 6]\n",
       " [       0       0       0       0       0       2      13       0       4       0]   68.421% \t[class: 7]\n",
       " [       0       0       0       3       0       0       0       7       1      10]   33.333% \t[class: 8]\n",
       " [       0       0       0       1       0       0       0       0      14       0]   93.333% \t[class: 9]\n",
       " [       0       0       0       0       6       1       0       3       3      10]]  43.478% \t[class: 10]\n",
       " + average row correct: 55.08553609252% \n",
       " + average rowUcol correct (VOC measure): 38.174691163003% \n",
       " + global correct: 54.5%\n",
       "{\n",
       "  _mat_flat : LongTensor - size: 100\n",
       "  valids : FloatTensor - size: 10\n",
       "  mat : LongTensor - size: 10x10\n",
       "  averageUnionValid : 0.38174691163003\n",
       "  _targ_idx : LongTensor - empty\n",
       "  averageValid : 0.5508553609252\n",
       "  classes : \n",
       "    {\n",
       "      1 : 1\n",
       "      2 : 2\n",
       "      3 : 3\n",
       "      4 : 4\n",
       "      5 : 5\n",
       "      6 : 6\n",
       "      7 : 7\n",
       "      8 : 8\n",
       "      9 : 9\n",
       "      10 : 10\n",
       "    }\n",
       "  _prediction : FloatTensor - size: 10\n",
       "  _pred_idx : LongTensor - size: 1\n",
       "  nclasses : 10\n",
       "  _max : FloatTensor - size: 1\n",
       "  _target : FloatTensor - empty\n",
       "  unionvalids : FloatTensor - size: 10\n",
       "  totalValid : 0.545\n",
       "}\n"
      ]
     },
     "execution_count": 14,
     "metadata": {},
     "output_type": "execute_result"
    }
   ],
   "source": [
    "\n",
    "inputs_adv = modelG:forward(inputs)\n",
    "\n",
    "local preds = modelD:forward(inputs_adv)\n",
    "\n",
    "confusion:zero()\n",
    "for i = 1,batchSize do\n",
    "    confusion:add(preds[i], targets[i])\n",
    "end\n",
    "\n",
    "print(confusion)\n",
    "\n",
    "require 'optim'\n",
    "\n",
    "\n",
    "parameters,gradParameters = modelG:getParameters()\n",
    "optimStateG = {\n",
    "   learningRate = 0.001,\n",
    "}\n",
    "\n",
    "\n",
    "for epoch = 1, 200 do\n",
    "   -- local function we give to optim\n",
    "   -- it takes current weights as input, and outputs the loss\n",
    "   -- and the gradient of the loss with respect to the weights\n",
    "   -- gradParams is calculated implicitly by calling 'backward',\n",
    "   -- because the model's weight and bias gradient tensors\n",
    "   -- are simply views onto gradParams\n",
    "   function feval(parameters)\n",
    "      gradParameters:zero()\n",
    "\n",
    "      local gen = modelG:forward(inputs)\n",
    "      local outputs = modelD:forward(gen)\n",
    "      local loss = criterion:forward(outputs, targets)\n",
    "      local df_do = criterion:backward(outputs, targets)\n",
    "      local df_dg = modelD:updateGradInput(gen, df_do)\n",
    "\n",
    "      modelG:backward(inputs, df_dg)\n",
    "      print('<trainer> loss on training set:'..loss)\n",
    "      return loss, gradParameters:mul(-1)\n",
    "   end\n",
    "    \n",
    "   optim.sgd(feval, parameters, optimStateG)\n",
    "end\n",
    "\n",
    "inputs_adv = modelG:forward(inputs)\n",
    "\n",
    "local preds = modelD:forward(inputs_adv)\n",
    "\n",
    "confusion:zero()\n",
    "for i = 1,batchSize do\n",
    "    confusion:add(preds[i], targets[i])\n",
    "end\n",
    "\n",
    "print(confusion)\n",
    "\n",
    "\n",
    "-- train G"
   ]
  },
  {
   "cell_type": "code",
   "execution_count": 12,
   "metadata": {
    "collapsed": false
   },
   "outputs": [
    {
     "data": {
      "image/png": "[encoded data removed]",
      "text/plain": [
       "Console does not support images"
      ]
     },
     "metadata": {
      "image/png": {
       "height": 1156,
       "width": 204
      }
     },
     "output_type": "display_data"
    }
   ],
   "source": [
    "require 'image'\n",
    "itorch.image(inputs/torch.max(torch.abs(inputs)))"
   ]
  },
  {
   "cell_type": "code",
   "execution_count": 15,
   "metadata": {
    "collapsed": false
   },
   "outputs": [
    {
     "data": {
      "image/png": "[encoded data removed]",
      "text/plain": [
       "Console does not support images"
      ]
     },
     "metadata": {
      "image/png": {
       "height": 1156,
       "width": 204
      }
     },
     "output_type": "display_data"
    }
   ],
   "source": [
    "require 'image'\n",
    "itorch.image(inputs_adv/torch.max(torch.abs(inputs_adv)))"
   ]
  },
  {
   "cell_type": "code",
   "execution_count": 10,
   "metadata": {
    "collapsed": false
   },
   "outputs": [
    {
     "data": {
      "text/plain": [
       "userdata\t\n"
      ]
     },
     "execution_count": 10,
     "metadata": {},
     "output_type": "execute_result"
    }
   ],
   "source": [
    "type(inputs_adv)"
   ]
  },
  {
   "cell_type": "code",
   "execution_count": 28,
   "metadata": {
    "collapsed": false
   },
   "outputs": [],
   "source": [
    "inputs_adv = adversarial_fast(modelD, criterion, inputs, targets, 1, intensity)\n",
    "\n",
    "local preds = modelD:forward(inputs_adv)\n",
    "confusion:zero()\n",
    "for i = 1,batchSize do\n",
    "    confusion:add(preds[i], targets[i])\n",
    "end"
   ]
  },
  {
   "cell_type": "code",
   "execution_count": 30,
   "metadata": {
    "collapsed": false
   },
   "outputs": [
    {
     "data": {
      "text/plain": [
       "ConfusionMatrix:\n",
       "[[       0       0       1       3       0       5       5       0       6       1]   0.000% \t[class: 1]\n",
       " [       0       0       1       1       5       0       0       4      15       0]   0.000% \t[class: 2]\n",
       " [       1       1       0      14       0       0       0       4       0       0]   0.000% \t[class: 3]\n",
       " [       0       0       4       0       4       5       0       1       6       1]   0.000% \t[class: 4]\n",
       " [       0       0       1       2       0       0       1       8       3       6]   0.000% \t[class: 5]\n",
       " [       0       1       0       3       0       0       0       0       9       0]   0.000% \t[class: 6]\n",
       " [       0       0       0       5       2       1       0       3       8       0]   0.000% \t[class: 7]\n",
       " [       0       0       1      10       0       1       0       0       2       7]   0.000% \t[class: 8]\n",
       " [       0       0       1       7       1       1       0       0       0       5]   0.000% \t[class: 9]\n",
       " [       0       0       0       1       7       2       0      10       3       0]]  0.000% \t[class: 10]\n",
       " + average row correct: 0% \n",
       " + average rowUcol correct (VOC measure): 0% \n",
       " + global correct: 0%\n",
       "{\n",
       "  _mat_flat : LongTensor - size: 100\n",
       "  valids : FloatTensor - size: 10\n",
       "  mat : LongTensor - size: 10x10\n",
       "  averageUnionValid : 0\n",
       "  _targ_idx : LongTensor - empty\n",
       "  averageValid : 0\n",
       "  classes : \n",
       "    {\n",
       "      1 : 1\n",
       "      2 : 2\n",
       "      3 : 3\n",
       "      4 : 4\n",
       "      5 : 5\n",
       "      6 : 6\n",
       "      7 : 7\n",
       "      8 : 8\n",
       "      9 : 9\n",
       "      10 : 10\n",
       "    }\n",
       "  _prediction : FloatTensor - size: 10\n",
       "  _pred_idx : LongTensor - size: 1\n",
       "  nclasses : 10\n",
       "  _max : FloatTensor - size: 1\n",
       "  _target : FloatTensor - empty\n",
       "  unionvalids : FloatTensor - size: 10\n",
       "  totalValid : 0\n",
       "}\n"
      ]
     },
     "execution_count": 30,
     "metadata": {},
     "output_type": "execute_result"
    }
   ],
   "source": []
  },
  {
   "cell_type": "code",
   "execution_count": 36,
   "metadata": {
    "collapsed": false
   },
   "outputs": [
    {
     "data": {
      "image/png": "[encoded data removed]",
      "text/plain": [
       "Console does not support images"
      ]
     },
     "metadata": {
      "image/png": {
       "height": 1156,
       "width": 204
      }
     },
     "output_type": "display_data"
    },
    {
     "data": {
      "text/plain": [
       "\n"
      ]
     },
     "execution_count": 36,
     "metadata": {},
     "output_type": "execute_result"
    }
   ],
   "source": [
    "itorch.image(inputs_adv/torch.max(torch.abs(inputs_adv)))"
   ]
  },
  {
   "cell_type": "code",
   "execution_count": 6,
   "metadata": {
    "collapsed": false
   },
   "outputs": [
    {
     "ename": "bad argument #1 to '?' (expecting number or torch.LongTensor or torch.LongStorage at /home/fei/torch/pkg/torch/generic/Tensor.c:1125)\nstack traceback:\n\t[C]: at 0x7f491e1994d0\n\t[C]: in function 'LongTensor'\n\t...ei/torch/install/share/lua/5.1/optim/ConfusionMatrix.lua:20: in function '__init'\n\t/home/fei/torch/install/share/lua/5.1/torch/init.lua:91: in function </home/fei/torch/install/share/lua/5.1/torch/init.lua:87>\n\t[C]: in function 'ConfusionMatrix'\n\t[string \"confusion = optim.ConfusionMatrix()...\"]:1: in main chunk\n\t[C]: in function 'xpcall'\n\t/home/fei/torch/install/share/lua/5.1/itorch/main.lua:210: in function </home/fei/torch/install/share/lua/5.1/itorch/main.lua:174>\n\t/home/fei/torch/install/share/lua/5.1/lzmq/poller.lua:75: in function 'poll'\n\t/home/fei/torch/install/share/lua/5.1/lzmq/impl/loop.lua:307: in function 'poll'\n\t/home/fei/torch/install/share/lua/5.1/lzmq/impl/loop.lua:325: in function 'sleep_ex'\n\t/home/fei/torch/install/share/lua/5.1/lzmq/impl/loop.lua:370: in function 'start'\n\t/home/fei/torch/install/share/lua/5.1/itorch/main.lua:389: in main chunk\n\t[C]: in function 'require'\n\t(command line):1: in main chunk\n\t[C]: at 0x00405d50",
     "evalue": "",
     "output_type": "error",
     "traceback": [
      "bad argument #1 to '?' (expecting number or torch.LongTensor or torch.LongStorage at /home/fei/torch/pkg/torch/generic/Tensor.c:1125)\nstack traceback:\n\t[C]: at 0x7f491e1994d0\n\t[C]: in function 'LongTensor'\n\t...ei/torch/install/share/lua/5.1/optim/ConfusionMatrix.lua:20: in function '__init'\n\t/home/fei/torch/install/share/lua/5.1/torch/init.lua:91: in function </home/fei/torch/install/share/lua/5.1/torch/init.lua:87>\n\t[C]: in function 'ConfusionMatrix'\n\t[string \"confusion = optim.ConfusionMatrix()...\"]:1: in main chunk\n\t[C]: in function 'xpcall'\n\t/home/fei/torch/install/share/lua/5.1/itorch/main.lua:210: in function </home/fei/torch/install/share/lua/5.1/itorch/main.lua:174>\n\t/home/fei/torch/install/share/lua/5.1/lzmq/poller.lua:75: in function 'poll'\n\t/home/fei/torch/install/share/lua/5.1/lzmq/impl/loop.lua:307: in function 'poll'\n\t/home/fei/torch/install/share/lua/5.1/lzmq/impl/loop.lua:325: in function 'sleep_ex'\n\t/home/fei/torch/install/share/lua/5.1/lzmq/impl/loop.lua:370: in function 'start'\n\t/home/fei/torch/install/share/lua/5.1/itorch/main.lua:389: in main chunk\n\t[C]: in function 'require'\n\t(command line):1: in main chunk\n\t[C]: at 0x00405d50"
     ]
    }
   ],
   "source": [
    "confusion = optim.ConfusionMatrix\n"
   ]
  },
  {
   "cell_type": "code",
   "execution_count": 1,
   "metadata": {
    "collapsed": true
   },
   "outputs": [],
   "source": [
    "classes = {'1','2','3','4','5','6','7','8','9','10'}\n"
   ]
  },
  {
   "cell_type": "code",
   "execution_count": 2,
   "metadata": {
    "collapsed": true
   },
   "outputs": [],
   "source": [
    "confusion = optim.ConfusionMatrix(classes)"
   ]
  },
  {
   "cell_type": "code",
   "execution_count": 8,
   "metadata": {
    "collapsed": false
   },
   "outputs": [
    {
     "data": {
      "text/plain": [
       "10\t\n"
      ]
     },
     "execution_count": 8,
     "metadata": {},
     "output_type": "execute_result"
    }
   ],
   "source": [
    "#classes"
   ]
  },
  {
   "cell_type": "code",
   "execution_count": null,
   "metadata": {
    "collapsed": true
   },
   "outputs": [],
   "source": []
  }
 ],
 "metadata": {
  "anaconda-cloud": {},
  "kernelspec": {
   "display_name": "iTorch",
   "language": "lua",
   "name": "itorch"
  },
  "language_info": {
   "name": "lua",
   "version": "5.1"
  }
 },
 "nbformat": 4,
 "nbformat_minor": 1
}
